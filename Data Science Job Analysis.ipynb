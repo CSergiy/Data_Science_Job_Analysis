{
 "cells": [
  {
   "cell_type": "markdown",
   "id": "f378b651",
   "metadata": {
    "toc": true
   },
   "source": [
    "<h1>Table of Contents<span class=\"tocSkip\"></span></h1>\n",
    "<div class=\"toc\"><ul class=\"toc-item\"><li><span><a href=\"#Introduction\" data-toc-modified-id=\"Introduction-0\"><span class=\"toc-item-num\">0&nbsp;&nbsp;</span>Introduction</a></span><ul class=\"toc-item\"><li><span><a href=\"#Project-Objective\" data-toc-modified-id=\"Project-Objective-0.1\"><span class=\"toc-item-num\">0.1&nbsp;&nbsp;</span>Project Objective</a></span></li><li><span><a href=\"#Dataset-Description\" data-toc-modified-id=\"Dataset-Description-0.2\"><span class=\"toc-item-num\">0.2&nbsp;&nbsp;</span>Dataset Description</a></span></li><li><span><a href=\"#Imports\" data-toc-modified-id=\"Imports-0.3\"><span class=\"toc-item-num\">0.3&nbsp;&nbsp;</span>Imports</a></span></li></ul></li><li><span><a href=\"#Data-Loading-and-Initial-Inspection\" data-toc-modified-id=\"Data-Loading-and-Initial-Inspection-1\"><span class=\"toc-item-num\">1&nbsp;&nbsp;</span>Data Loading and Initial Inspection</a></span><ul class=\"toc-item\"><li><span><a href=\"#Loading-The-Dataset\" data-toc-modified-id=\"Loading-The-Dataset-1.1\"><span class=\"toc-item-num\">1.1&nbsp;&nbsp;</span>Loading The Dataset</a></span></li><li><span><a href=\"#Basic-Information-about-the-Dataset\" data-toc-modified-id=\"Basic-Information-about-the-Dataset-1.2\"><span class=\"toc-item-num\">1.2&nbsp;&nbsp;</span>Basic Information about the Dataset</a></span></li><li><span><a href=\"#Summary-Statistics\" data-toc-modified-id=\"Summary-Statistics-1.3\"><span class=\"toc-item-num\">1.3&nbsp;&nbsp;</span>Summary Statistics</a></span></li></ul></li><li><span><a href=\"#Data-Cleaning-and-Preprocessing\" data-toc-modified-id=\"Data-Cleaning-and-Preprocessing-2\"><span class=\"toc-item-num\">2&nbsp;&nbsp;</span>Data Cleaning and Preprocessing</a></span><ul class=\"toc-item\"><li><span><a href=\"#Handling-Missing-Values\" data-toc-modified-id=\"Handling-Missing-Values-2.1\"><span class=\"toc-item-num\">2.1&nbsp;&nbsp;</span>Handling Missing Values</a></span></li><li><span><a href=\"#Data-Type-Conversion\" data-toc-modified-id=\"Data-Type-Conversion-2.2\"><span class=\"toc-item-num\">2.2&nbsp;&nbsp;</span>Data Type Conversion</a></span></li><li><span><a href=\"#Text-Data-Cleaning\" data-toc-modified-id=\"Text-Data-Cleaning-2.3\"><span class=\"toc-item-num\">2.3&nbsp;&nbsp;</span>Text Data Cleaning</a></span></li><li><span><a href=\"#Extraction-of-Additional-Features\" data-toc-modified-id=\"Extraction-of-Additional-Features-2.4\"><span class=\"toc-item-num\">2.4&nbsp;&nbsp;</span>Extraction of Additional Features</a></span></li></ul></li><li><span><a href=\"#Exploratory-Data-Analysis\" data-toc-modified-id=\"Exploratory-Data-Analysis-3\"><span class=\"toc-item-num\">3&nbsp;&nbsp;</span>Exploratory Data Analysis</a></span><ul class=\"toc-item\"><li><span><a href=\"#Distribution-of-Job-Titles\" data-toc-modified-id=\"Distribution-of-Job-Titles-3.1\"><span class=\"toc-item-num\">3.1&nbsp;&nbsp;</span>Distribution of Job Titles</a></span></li><li><span><a href=\"#Distribution-of-Companies\" data-toc-modified-id=\"Distribution-of-Companies-3.2\"><span class=\"toc-item-num\">3.2&nbsp;&nbsp;</span>Distribution of Companies</a></span></li><li><span><a href=\"#Word-Cloud-of-Job-Descriptions\" data-toc-modified-id=\"Word-Cloud-of-Job-Descriptions-3.3\"><span class=\"toc-item-num\">3.3&nbsp;&nbsp;</span>Word Cloud of Job Descriptions</a></span></li></ul></li><li><span><a href=\"#Feature-Engineering-for-NLP\" data-toc-modified-id=\"Feature-Engineering-for-NLP-4\"><span class=\"toc-item-num\">4&nbsp;&nbsp;</span>Feature Engineering for NLP</a></span><ul class=\"toc-item\"><li><span><a href=\"#Text-Vectorization\" data-toc-modified-id=\"Text-Vectorization-4.1\"><span class=\"toc-item-num\">4.1&nbsp;&nbsp;</span>Text Vectorization</a></span></li><li><span><a href=\"#Dimensionality-Reduction\" data-toc-modified-id=\"Dimensionality-Reduction-4.2\"><span class=\"toc-item-num\">4.2&nbsp;&nbsp;</span>Dimensionality Reduction</a></span></li></ul></li><li><span><a href=\"#Modeling\" data-toc-modified-id=\"Modeling-5\"><span class=\"toc-item-num\">5&nbsp;&nbsp;</span>Modeling</a></span><ul class=\"toc-item\"><li><span><a href=\"#Clustering\" data-toc-modified-id=\"Clustering-5.1\"><span class=\"toc-item-num\">5.1&nbsp;&nbsp;</span>Clustering</a></span></li></ul></li><li><span><a href=\"#Model-Selection\" data-toc-modified-id=\"Model-Selection-6\"><span class=\"toc-item-num\">6&nbsp;&nbsp;</span>Model Selection</a></span><ul class=\"toc-item\"><li><span><a href=\"#Hyperparameter-Tuning\" data-toc-modified-id=\"Hyperparameter-Tuning-6.1\"><span class=\"toc-item-num\">6.1&nbsp;&nbsp;</span>Hyperparameter Tuning</a></span></li><li><span><a href=\"#Model-Training\" data-toc-modified-id=\"Model-Training-6.2\"><span class=\"toc-item-num\">6.2&nbsp;&nbsp;</span>Model Training</a></span></li><li><span><a href=\"#Cluster-Evaluation\" data-toc-modified-id=\"Cluster-Evaluation-6.3\"><span class=\"toc-item-num\">6.3&nbsp;&nbsp;</span>Cluster Evaluation</a></span></li></ul></li><li><span><a href=\"#Insights-from-Clustering\" data-toc-modified-id=\"Insights-from-Clustering-7\"><span class=\"toc-item-num\">7&nbsp;&nbsp;</span>Insights from Clustering</a></span><ul class=\"toc-item\"><li><span><a href=\"#Visualizing-Clusters\" data-toc-modified-id=\"Visualizing-Clusters-7.1\"><span class=\"toc-item-num\">7.1&nbsp;&nbsp;</span>Visualizing Clusters</a></span></li><li><span><a href=\"#Analyzing-Keywords-for-Each-Cluster\" data-toc-modified-id=\"Analyzing-Keywords-for-Each-Cluster-7.2\"><span class=\"toc-item-num\">7.2&nbsp;&nbsp;</span>Analyzing Keywords for Each Cluster</a></span></li></ul></li><li><span><a href=\"#Job-Requirement-Parsing\" data-toc-modified-id=\"Job-Requirement-Parsing-8\"><span class=\"toc-item-num\">8&nbsp;&nbsp;</span>Job Requirement Parsing</a></span><ul class=\"toc-item\"><li><span><a href=\"#Extraction-of-Education-Requirements\" data-toc-modified-id=\"Extraction-of-Education-Requirements-8.1\"><span class=\"toc-item-num\">8.1&nbsp;&nbsp;</span>Extraction of Education Requirements</a></span></li><li><span><a href=\"#Extraction-of-Experience-Requirements\" data-toc-modified-id=\"Extraction-of-Experience-Requirements-8.2\"><span class=\"toc-item-num\">8.2&nbsp;&nbsp;</span>Extraction of Experience Requirements</a></span></li><li><span><a href=\"#Analysis-of-Education-and-Experience-Requirements-by-Job-Title-or-Cluster\" data-toc-modified-id=\"Analysis-of-Education-and-Experience-Requirements-by-Job-Title-or-Cluster-8.3\"><span class=\"toc-item-num\">8.3&nbsp;&nbsp;</span>Analysis of Education and Experience Requirements by Job Title or Cluster</a></span></li></ul></li><li><span><a href=\"#Conclusion\" data-toc-modified-id=\"Conclusion-9\"><span class=\"toc-item-num\">9&nbsp;&nbsp;</span>Conclusion</a></span><ul class=\"toc-item\"><li><span><a href=\"#Summary-of-Findings\" data-toc-modified-id=\"Summary-of-Findings-9.1\"><span class=\"toc-item-num\">9.1&nbsp;&nbsp;</span>Summary of Findings</a></span></li><li><span><a href=\"#Discussion-of-Project-Limitations\" data-toc-modified-id=\"Discussion-of-Project-Limitations-9.2\"><span class=\"toc-item-num\">9.2&nbsp;&nbsp;</span>Discussion of Project Limitations</a></span></li><li><span><a href=\"#Suggestions-for-Future-Work\" data-toc-modified-id=\"Suggestions-for-Future-Work-9.3\"><span class=\"toc-item-num\">9.3&nbsp;&nbsp;</span>Suggestions for Future Work</a></span></li></ul></li><li><span><a href=\"#Appendix\" data-toc-modified-id=\"Appendix-10\"><span class=\"toc-item-num\">10&nbsp;&nbsp;</span>Appendix</a></span></li></ul></div>"
   ]
  },
  {
   "cell_type": "markdown",
   "id": "a1b94f9e",
   "metadata": {},
   "source": [
    "# Introduction"
   ]
  },
  {
   "cell_type": "code",
   "execution_count": null,
   "id": "4a6d4d14",
   "metadata": {},
   "outputs": [],
   "source": []
  },
  {
   "cell_type": "markdown",
   "id": "9d2ad53d",
   "metadata": {},
   "source": [
    "## Project Objective"
   ]
  },
  {
   "cell_type": "markdown",
   "id": "45232aab",
   "metadata": {},
   "source": [
    "## Dataset Description"
   ]
  },
  {
   "cell_type": "markdown",
   "id": "1bd2749c",
   "metadata": {},
   "source": [
    "## Imports"
   ]
  },
  {
   "cell_type": "code",
   "execution_count": 1,
   "id": "13817b8f",
   "metadata": {},
   "outputs": [],
   "source": [
    "import pandas as pd"
   ]
  },
  {
   "cell_type": "markdown",
   "id": "509e1f94",
   "metadata": {},
   "source": [
    "# Data Loading and Initial Inspection"
   ]
  },
  {
   "cell_type": "markdown",
   "id": "9384a3dc",
   "metadata": {},
   "source": [
    "## Loading The Dataset"
   ]
  },
  {
   "cell_type": "markdown",
   "id": "728cb693",
   "metadata": {},
   "source": [
    "Dataset from https://www.kaggle.com/datasets/lukebarousse/data-analyst-job-postings-google-search/code"
   ]
  },
  {
   "cell_type": "code",
   "execution_count": 2,
   "id": "c70cffd1",
   "metadata": {},
   "outputs": [],
   "source": [
    "df = pd.read_csv('gsearch_jobs.csv')"
   ]
  },
  {
   "cell_type": "markdown",
   "id": "1e41e32d",
   "metadata": {},
   "source": [
    "## Basic Information about the Dataset"
   ]
  },
  {
   "cell_type": "code",
   "execution_count": 3,
   "id": "bfbcd14e",
   "metadata": {},
   "outputs": [
    {
     "data": {
      "text/plain": [
       "(22853, 24)"
      ]
     },
     "execution_count": 3,
     "metadata": {},
     "output_type": "execute_result"
    }
   ],
   "source": [
    "df.shape"
   ]
  },
  {
   "cell_type": "markdown",
   "id": "aaf2f868",
   "metadata": {},
   "source": [
    "## Summary Statistics"
   ]
  },
  {
   "cell_type": "code",
   "execution_count": 4,
   "id": "fadc9498",
   "metadata": {},
   "outputs": [
    {
     "data": {
      "text/html": [
       "<div>\n",
       "<style scoped>\n",
       "    .dataframe tbody tr th:only-of-type {\n",
       "        vertical-align: middle;\n",
       "    }\n",
       "\n",
       "    .dataframe tbody tr th {\n",
       "        vertical-align: top;\n",
       "    }\n",
       "\n",
       "    .dataframe thead th {\n",
       "        text-align: right;\n",
       "    }\n",
       "</style>\n",
       "<table border=\"1\" class=\"dataframe\">\n",
       "  <thead>\n",
       "    <tr style=\"text-align: right;\">\n",
       "      <th></th>\n",
       "      <th>Unnamed: 0</th>\n",
       "      <th>index</th>\n",
       "      <th>title</th>\n",
       "      <th>company_name</th>\n",
       "      <th>location</th>\n",
       "      <th>via</th>\n",
       "      <th>description</th>\n",
       "      <th>extensions</th>\n",
       "      <th>posted_at</th>\n",
       "      <th>schedule_type</th>\n",
       "      <th>...</th>\n",
       "      <th>search_location</th>\n",
       "      <th>salary_pay</th>\n",
       "      <th>salary_rate</th>\n",
       "      <th>salary_avg</th>\n",
       "      <th>salary_min</th>\n",
       "      <th>salary_max</th>\n",
       "      <th>salary_hourly</th>\n",
       "      <th>salary_yearly</th>\n",
       "      <th>salary_standardized</th>\n",
       "      <th>description_tokens</th>\n",
       "    </tr>\n",
       "  </thead>\n",
       "  <tbody>\n",
       "    <tr>\n",
       "      <th>0</th>\n",
       "      <td>0</td>\n",
       "      <td>0</td>\n",
       "      <td>Data Analyst - HR Analytics (H)</td>\n",
       "      <td>Avispa</td>\n",
       "      <td>United States</td>\n",
       "      <td>via LinkedIn</td>\n",
       "      <td>Data Analyst - HR Analytics R-2023-05-112 (H)\\...</td>\n",
       "      <td>['21 hours ago', 'Full-time', 'Health insuranc...</td>\n",
       "      <td>21 hours ago</td>\n",
       "      <td>Full-time</td>\n",
       "      <td>...</td>\n",
       "      <td>United States</td>\n",
       "      <td>NaN</td>\n",
       "      <td>NaN</td>\n",
       "      <td>NaN</td>\n",
       "      <td>NaN</td>\n",
       "      <td>NaN</td>\n",
       "      <td>NaN</td>\n",
       "      <td>NaN</td>\n",
       "      <td>NaN</td>\n",
       "      <td>['excel', 'tableau', 'sql', 'python']</td>\n",
       "    </tr>\n",
       "    <tr>\n",
       "      <th>1</th>\n",
       "      <td>1</td>\n",
       "      <td>1</td>\n",
       "      <td>Data Analyst/Scientist</td>\n",
       "      <td>World Wide Technology</td>\n",
       "      <td>Anywhere</td>\n",
       "      <td>via LinkedIn</td>\n",
       "      <td>Company Overview:\\n\\nWorld Wide Technology (WW...</td>\n",
       "      <td>['8 hours ago', 'Work from home', 'Contractor']</td>\n",
       "      <td>8 hours ago</td>\n",
       "      <td>Contractor</td>\n",
       "      <td>...</td>\n",
       "      <td>United States</td>\n",
       "      <td>NaN</td>\n",
       "      <td>NaN</td>\n",
       "      <td>NaN</td>\n",
       "      <td>NaN</td>\n",
       "      <td>NaN</td>\n",
       "      <td>NaN</td>\n",
       "      <td>NaN</td>\n",
       "      <td>NaN</td>\n",
       "      <td>['sql', 'ssis', 'aws']</td>\n",
       "    </tr>\n",
       "    <tr>\n",
       "      <th>2</th>\n",
       "      <td>2</td>\n",
       "      <td>2</td>\n",
       "      <td>Data Analyst II</td>\n",
       "      <td>Corporate</td>\n",
       "      <td>Jefferson City, MO</td>\n",
       "      <td>via JobServe</td>\n",
       "      <td>You could be the one who changes everything fo...</td>\n",
       "      <td>['6 hours ago', 'Full-time', 'Health insurance...</td>\n",
       "      <td>6 hours ago</td>\n",
       "      <td>Full-time</td>\n",
       "      <td>...</td>\n",
       "      <td>United States</td>\n",
       "      <td>NaN</td>\n",
       "      <td>NaN</td>\n",
       "      <td>NaN</td>\n",
       "      <td>NaN</td>\n",
       "      <td>NaN</td>\n",
       "      <td>NaN</td>\n",
       "      <td>NaN</td>\n",
       "      <td>NaN</td>\n",
       "      <td>['excel', 'sql', 'ssis', 'ssrs']</td>\n",
       "    </tr>\n",
       "    <tr>\n",
       "      <th>3</th>\n",
       "      <td>3</td>\n",
       "      <td>3</td>\n",
       "      <td>Data analyst</td>\n",
       "      <td>Upwork</td>\n",
       "      <td>Anywhere</td>\n",
       "      <td>via Upwork</td>\n",
       "      <td>Want a good data analyst who can handle large ...</td>\n",
       "      <td>['15 hours ago', '15–45 an hour', 'Work from h...</td>\n",
       "      <td>15 hours ago</td>\n",
       "      <td>Contractor</td>\n",
       "      <td>...</td>\n",
       "      <td>United States</td>\n",
       "      <td>15–45</td>\n",
       "      <td>an hour</td>\n",
       "      <td>30.0</td>\n",
       "      <td>15.0</td>\n",
       "      <td>45.0</td>\n",
       "      <td>30.0</td>\n",
       "      <td>NaN</td>\n",
       "      <td>62400.0</td>\n",
       "      <td>[]</td>\n",
       "    </tr>\n",
       "    <tr>\n",
       "      <th>4</th>\n",
       "      <td>4</td>\n",
       "      <td>4</td>\n",
       "      <td>Data Analyst – Global Learning Management</td>\n",
       "      <td>Kelly Services</td>\n",
       "      <td>Wichita, KS</td>\n",
       "      <td>via MyKelly</td>\n",
       "      <td>At Kelly® Professional &amp; Industrial, we’re pas...</td>\n",
       "      <td>['12 hours ago']</td>\n",
       "      <td>12 hours ago</td>\n",
       "      <td>NaN</td>\n",
       "      <td>...</td>\n",
       "      <td>United States</td>\n",
       "      <td>NaN</td>\n",
       "      <td>NaN</td>\n",
       "      <td>NaN</td>\n",
       "      <td>NaN</td>\n",
       "      <td>NaN</td>\n",
       "      <td>NaN</td>\n",
       "      <td>NaN</td>\n",
       "      <td>NaN</td>\n",
       "      <td>['tableau']</td>\n",
       "    </tr>\n",
       "  </tbody>\n",
       "</table>\n",
       "<p>5 rows × 24 columns</p>\n",
       "</div>"
      ],
      "text/plain": [
       "   Unnamed: 0  index                                      title  \\\n",
       "0           0      0            Data Analyst - HR Analytics (H)   \n",
       "1           1      1                     Data Analyst/Scientist   \n",
       "2           2      2                            Data Analyst II   \n",
       "3           3      3                               Data analyst   \n",
       "4           4      4  Data Analyst – Global Learning Management   \n",
       "\n",
       "            company_name                 location           via  \\\n",
       "0                 Avispa         United States     via LinkedIn   \n",
       "1  World Wide Technology                Anywhere   via LinkedIn   \n",
       "2              Corporate    Jefferson City, MO     via JobServe   \n",
       "3                 Upwork                Anywhere     via Upwork   \n",
       "4         Kelly Services           Wichita, KS      via MyKelly   \n",
       "\n",
       "                                         description  \\\n",
       "0  Data Analyst - HR Analytics R-2023-05-112 (H)\\...   \n",
       "1  Company Overview:\\n\\nWorld Wide Technology (WW...   \n",
       "2  You could be the one who changes everything fo...   \n",
       "3  Want a good data analyst who can handle large ...   \n",
       "4  At Kelly® Professional & Industrial, we’re pas...   \n",
       "\n",
       "                                          extensions     posted_at  \\\n",
       "0  ['21 hours ago', 'Full-time', 'Health insuranc...  21 hours ago   \n",
       "1    ['8 hours ago', 'Work from home', 'Contractor']   8 hours ago   \n",
       "2  ['6 hours ago', 'Full-time', 'Health insurance...   6 hours ago   \n",
       "3  ['15 hours ago', '15–45 an hour', 'Work from h...  15 hours ago   \n",
       "4                                   ['12 hours ago']  12 hours ago   \n",
       "\n",
       "  schedule_type  ... search_location salary_pay salary_rate salary_avg  \\\n",
       "0     Full-time  ...   United States        NaN         NaN        NaN   \n",
       "1    Contractor  ...   United States        NaN         NaN        NaN   \n",
       "2     Full-time  ...   United States        NaN         NaN        NaN   \n",
       "3    Contractor  ...   United States      15–45     an hour       30.0   \n",
       "4           NaN  ...   United States        NaN         NaN        NaN   \n",
       "\n",
       "  salary_min salary_max salary_hourly  salary_yearly  salary_standardized  \\\n",
       "0        NaN        NaN           NaN            NaN                  NaN   \n",
       "1        NaN        NaN           NaN            NaN                  NaN   \n",
       "2        NaN        NaN           NaN            NaN                  NaN   \n",
       "3       15.0       45.0          30.0            NaN              62400.0   \n",
       "4        NaN        NaN           NaN            NaN                  NaN   \n",
       "\n",
       "                      description_tokens  \n",
       "0  ['excel', 'tableau', 'sql', 'python']  \n",
       "1                 ['sql', 'ssis', 'aws']  \n",
       "2       ['excel', 'sql', 'ssis', 'ssrs']  \n",
       "3                                     []  \n",
       "4                            ['tableau']  \n",
       "\n",
       "[5 rows x 24 columns]"
      ]
     },
     "execution_count": 4,
     "metadata": {},
     "output_type": "execute_result"
    }
   ],
   "source": [
    "df.head()"
   ]
  },
  {
   "cell_type": "code",
   "execution_count": 5,
   "id": "f0d73f68",
   "metadata": {},
   "outputs": [
    {
     "data": {
      "text/html": [
       "<div>\n",
       "<style scoped>\n",
       "    .dataframe tbody tr th:only-of-type {\n",
       "        vertical-align: middle;\n",
       "    }\n",
       "\n",
       "    .dataframe tbody tr th {\n",
       "        vertical-align: top;\n",
       "    }\n",
       "\n",
       "    .dataframe thead th {\n",
       "        text-align: right;\n",
       "    }\n",
       "</style>\n",
       "<table border=\"1\" class=\"dataframe\">\n",
       "  <thead>\n",
       "    <tr style=\"text-align: right;\">\n",
       "      <th></th>\n",
       "      <th>Unnamed: 0</th>\n",
       "      <th>index</th>\n",
       "      <th>salary_avg</th>\n",
       "      <th>salary_min</th>\n",
       "      <th>salary_max</th>\n",
       "      <th>salary_hourly</th>\n",
       "      <th>salary_yearly</th>\n",
       "      <th>salary_standardized</th>\n",
       "    </tr>\n",
       "  </thead>\n",
       "  <tbody>\n",
       "    <tr>\n",
       "      <th>count</th>\n",
       "      <td>22853.000000</td>\n",
       "      <td>22853.000000</td>\n",
       "      <td>4332.000000</td>\n",
       "      <td>4064.000000</td>\n",
       "      <td>4064.000000</td>\n",
       "      <td>2612.000000</td>\n",
       "      <td>1713.000000</td>\n",
       "      <td>4332.000000</td>\n",
       "    </tr>\n",
       "    <tr>\n",
       "      <th>mean</th>\n",
       "      <td>11426.000000</td>\n",
       "      <td>1137.280882</td>\n",
       "      <td>40000.934539</td>\n",
       "      <td>33780.174405</td>\n",
       "      <td>47855.897852</td>\n",
       "      <td>44.509788</td>\n",
       "      <td>101065.236929</td>\n",
       "      <td>95905.148213</td>\n",
       "    </tr>\n",
       "    <tr>\n",
       "      <th>std</th>\n",
       "      <td>6597.237187</td>\n",
       "      <td>742.799016</td>\n",
       "      <td>52546.256475</td>\n",
       "      <td>44122.891275</td>\n",
       "      <td>62439.754512</td>\n",
       "      <td>23.049654</td>\n",
       "      <td>28521.952993</td>\n",
       "      <td>41539.234564</td>\n",
       "    </tr>\n",
       "    <tr>\n",
       "      <th>min</th>\n",
       "      <td>0.000000</td>\n",
       "      <td>0.000000</td>\n",
       "      <td>9.000000</td>\n",
       "      <td>8.000000</td>\n",
       "      <td>10.000000</td>\n",
       "      <td>9.000000</td>\n",
       "      <td>29289.840000</td>\n",
       "      <td>18720.000000</td>\n",
       "    </tr>\n",
       "    <tr>\n",
       "      <th>25%</th>\n",
       "      <td>5713.000000</td>\n",
       "      <td>519.000000</td>\n",
       "      <td>33.000000</td>\n",
       "      <td>20.000000</td>\n",
       "      <td>45.000000</td>\n",
       "      <td>29.375000</td>\n",
       "      <td>85000.000000</td>\n",
       "      <td>65000.000000</td>\n",
       "    </tr>\n",
       "    <tr>\n",
       "      <th>50%</th>\n",
       "      <td>11426.000000</td>\n",
       "      <td>1079.000000</td>\n",
       "      <td>62.500000</td>\n",
       "      <td>50.000000</td>\n",
       "      <td>75.000000</td>\n",
       "      <td>40.000000</td>\n",
       "      <td>96500.000000</td>\n",
       "      <td>96500.000000</td>\n",
       "    </tr>\n",
       "    <tr>\n",
       "      <th>75%</th>\n",
       "      <td>17139.000000</td>\n",
       "      <td>1650.000000</td>\n",
       "      <td>96500.000000</td>\n",
       "      <td>77000.000000</td>\n",
       "      <td>115000.000000</td>\n",
       "      <td>57.500000</td>\n",
       "      <td>110500.000000</td>\n",
       "      <td>119600.000000</td>\n",
       "    </tr>\n",
       "    <tr>\n",
       "      <th>max</th>\n",
       "      <td>22852.000000</td>\n",
       "      <td>3476.000000</td>\n",
       "      <td>233500.000000</td>\n",
       "      <td>215000.000000</td>\n",
       "      <td>283000.000000</td>\n",
       "      <td>300.000000</td>\n",
       "      <td>233500.000000</td>\n",
       "      <td>624000.000000</td>\n",
       "    </tr>\n",
       "  </tbody>\n",
       "</table>\n",
       "</div>"
      ],
      "text/plain": [
       "         Unnamed: 0         index     salary_avg     salary_min  \\\n",
       "count  22853.000000  22853.000000    4332.000000    4064.000000   \n",
       "mean   11426.000000   1137.280882   40000.934539   33780.174405   \n",
       "std     6597.237187    742.799016   52546.256475   44122.891275   \n",
       "min        0.000000      0.000000       9.000000       8.000000   \n",
       "25%     5713.000000    519.000000      33.000000      20.000000   \n",
       "50%    11426.000000   1079.000000      62.500000      50.000000   \n",
       "75%    17139.000000   1650.000000   96500.000000   77000.000000   \n",
       "max    22852.000000   3476.000000  233500.000000  215000.000000   \n",
       "\n",
       "          salary_max  salary_hourly  salary_yearly  salary_standardized  \n",
       "count    4064.000000    2612.000000    1713.000000          4332.000000  \n",
       "mean    47855.897852      44.509788  101065.236929         95905.148213  \n",
       "std     62439.754512      23.049654   28521.952993         41539.234564  \n",
       "min        10.000000       9.000000   29289.840000         18720.000000  \n",
       "25%        45.000000      29.375000   85000.000000         65000.000000  \n",
       "50%        75.000000      40.000000   96500.000000         96500.000000  \n",
       "75%    115000.000000      57.500000  110500.000000        119600.000000  \n",
       "max    283000.000000     300.000000  233500.000000        624000.000000  "
      ]
     },
     "execution_count": 5,
     "metadata": {},
     "output_type": "execute_result"
    }
   ],
   "source": [
    "df.describe()"
   ]
  },
  {
   "cell_type": "code",
   "execution_count": 6,
   "id": "d41d2e38",
   "metadata": {},
   "outputs": [
    {
     "data": {
      "text/plain": [
       "Unnamed: 0               int64\n",
       "index                    int64\n",
       "title                   object\n",
       "company_name            object\n",
       "location                object\n",
       "via                     object\n",
       "description             object\n",
       "extensions              object\n",
       "posted_at               object\n",
       "schedule_type           object\n",
       "work_from_home          object\n",
       "salary                  object\n",
       "search_term             object\n",
       "date_time               object\n",
       "search_location         object\n",
       "salary_pay              object\n",
       "salary_rate             object\n",
       "salary_avg             float64\n",
       "salary_min             float64\n",
       "salary_max             float64\n",
       "salary_hourly          float64\n",
       "salary_yearly          float64\n",
       "salary_standardized    float64\n",
       "description_tokens      object\n",
       "dtype: object"
      ]
     },
     "execution_count": 6,
     "metadata": {},
     "output_type": "execute_result"
    }
   ],
   "source": [
    "df.dtypes"
   ]
  },
  {
   "cell_type": "markdown",
   "id": "165ec17b",
   "metadata": {},
   "source": [
    "# Data Cleaning and Preprocessing"
   ]
  },
  {
   "cell_type": "markdown",
   "id": "ef2f50b1",
   "metadata": {},
   "source": [
    "## Handling Missing Values"
   ]
  },
  {
   "cell_type": "code",
   "execution_count": 7,
   "id": "df33eb19",
   "metadata": {},
   "outputs": [
    {
     "data": {
      "text/plain": [
       "Unnamed: 0                 0\n",
       "index                      0\n",
       "title                      0\n",
       "company_name               0\n",
       "location                  19\n",
       "via                        0\n",
       "description                0\n",
       "extensions                 0\n",
       "posted_at                  0\n",
       "schedule_type            157\n",
       "work_from_home         12610\n",
       "salary                 18521\n",
       "search_term                0\n",
       "date_time                  0\n",
       "search_location            0\n",
       "salary_pay             18521\n",
       "salary_rate            18521\n",
       "salary_avg             18521\n",
       "salary_min             18789\n",
       "salary_max             18789\n",
       "salary_hourly          20241\n",
       "salary_yearly          21140\n",
       "salary_standardized    18521\n",
       "description_tokens         0\n",
       "dtype: int64"
      ]
     },
     "execution_count": 7,
     "metadata": {},
     "output_type": "execute_result"
    }
   ],
   "source": [
    "df.isnull().sum()"
   ]
  },
  {
   "cell_type": "code",
   "execution_count": 8,
   "id": "acb8282c",
   "metadata": {},
   "outputs": [
    {
     "data": {
      "text/plain": [
       "0"
      ]
     },
     "execution_count": 8,
     "metadata": {},
     "output_type": "execute_result"
    }
   ],
   "source": [
    "df.duplicated().sum()"
   ]
  },
  {
   "cell_type": "code",
   "execution_count": 9,
   "id": "6ed29558",
   "metadata": {},
   "outputs": [
    {
     "ename": "KeyError",
     "evalue": "\"['job_id', 'thumbnail', 'commute_time'] not found in axis\"",
     "output_type": "error",
     "traceback": [
      "\u001b[1;31m---------------------------------------------------------------------------\u001b[0m",
      "\u001b[1;31mKeyError\u001b[0m                                  Traceback (most recent call last)",
      "Cell \u001b[1;32mIn[9], line 1\u001b[0m\n\u001b[1;32m----> 1\u001b[0m df \u001b[38;5;241m=\u001b[39m \u001b[43mdf\u001b[49m\u001b[38;5;241;43m.\u001b[39;49m\u001b[43mdrop\u001b[49m\u001b[43m(\u001b[49m\u001b[43m[\u001b[49m\u001b[38;5;124;43m'\u001b[39;49m\u001b[38;5;124;43mjob_id\u001b[39;49m\u001b[38;5;124;43m'\u001b[39;49m\u001b[43m,\u001b[49m\u001b[43m \u001b[49m\u001b[38;5;124;43m'\u001b[39;49m\u001b[38;5;124;43mthumbnail\u001b[39;49m\u001b[38;5;124;43m'\u001b[39;49m\u001b[43m,\u001b[49m\u001b[43m \u001b[49m\u001b[38;5;124;43m'\u001b[39;49m\u001b[38;5;124;43mcommute_time\u001b[39;49m\u001b[38;5;124;43m'\u001b[39;49m\u001b[43m]\u001b[49m\u001b[43m,\u001b[49m\u001b[43m \u001b[49m\u001b[43maxis\u001b[49m\u001b[38;5;241;43m=\u001b[39;49m\u001b[38;5;241;43m1\u001b[39;49m\u001b[43m)\u001b[49m\n",
      "File \u001b[1;32m~\\anaconda3\\lib\\site-packages\\pandas\\util\\_decorators.py:331\u001b[0m, in \u001b[0;36mdeprecate_nonkeyword_arguments.<locals>.decorate.<locals>.wrapper\u001b[1;34m(*args, **kwargs)\u001b[0m\n\u001b[0;32m    325\u001b[0m \u001b[38;5;28;01mif\u001b[39;00m \u001b[38;5;28mlen\u001b[39m(args) \u001b[38;5;241m>\u001b[39m num_allow_args:\n\u001b[0;32m    326\u001b[0m     warnings\u001b[38;5;241m.\u001b[39mwarn(\n\u001b[0;32m    327\u001b[0m         msg\u001b[38;5;241m.\u001b[39mformat(arguments\u001b[38;5;241m=\u001b[39m_format_argument_list(allow_args)),\n\u001b[0;32m    328\u001b[0m         \u001b[38;5;167;01mFutureWarning\u001b[39;00m,\n\u001b[0;32m    329\u001b[0m         stacklevel\u001b[38;5;241m=\u001b[39mfind_stack_level(),\n\u001b[0;32m    330\u001b[0m     )\n\u001b[1;32m--> 331\u001b[0m \u001b[38;5;28;01mreturn\u001b[39;00m func(\u001b[38;5;241m*\u001b[39margs, \u001b[38;5;241m*\u001b[39m\u001b[38;5;241m*\u001b[39mkwargs)\n",
      "File \u001b[1;32m~\\anaconda3\\lib\\site-packages\\pandas\\core\\frame.py:5399\u001b[0m, in \u001b[0;36mDataFrame.drop\u001b[1;34m(self, labels, axis, index, columns, level, inplace, errors)\u001b[0m\n\u001b[0;32m   5251\u001b[0m \u001b[38;5;129m@deprecate_nonkeyword_arguments\u001b[39m(version\u001b[38;5;241m=\u001b[39m\u001b[38;5;28;01mNone\u001b[39;00m, allowed_args\u001b[38;5;241m=\u001b[39m[\u001b[38;5;124m\"\u001b[39m\u001b[38;5;124mself\u001b[39m\u001b[38;5;124m\"\u001b[39m, \u001b[38;5;124m\"\u001b[39m\u001b[38;5;124mlabels\u001b[39m\u001b[38;5;124m\"\u001b[39m])\n\u001b[0;32m   5252\u001b[0m \u001b[38;5;28;01mdef\u001b[39;00m \u001b[38;5;21mdrop\u001b[39m(  \u001b[38;5;66;03m# type: ignore[override]\u001b[39;00m\n\u001b[0;32m   5253\u001b[0m     \u001b[38;5;28mself\u001b[39m,\n\u001b[1;32m   (...)\u001b[0m\n\u001b[0;32m   5260\u001b[0m     errors: IgnoreRaise \u001b[38;5;241m=\u001b[39m \u001b[38;5;124m\"\u001b[39m\u001b[38;5;124mraise\u001b[39m\u001b[38;5;124m\"\u001b[39m,\n\u001b[0;32m   5261\u001b[0m ) \u001b[38;5;241m-\u001b[39m\u001b[38;5;241m>\u001b[39m DataFrame \u001b[38;5;241m|\u001b[39m \u001b[38;5;28;01mNone\u001b[39;00m:\n\u001b[0;32m   5262\u001b[0m     \u001b[38;5;124;03m\"\"\"\u001b[39;00m\n\u001b[0;32m   5263\u001b[0m \u001b[38;5;124;03m    Drop specified labels from rows or columns.\u001b[39;00m\n\u001b[0;32m   5264\u001b[0m \n\u001b[1;32m   (...)\u001b[0m\n\u001b[0;32m   5397\u001b[0m \u001b[38;5;124;03m            weight  1.0     0.8\u001b[39;00m\n\u001b[0;32m   5398\u001b[0m \u001b[38;5;124;03m    \"\"\"\u001b[39;00m\n\u001b[1;32m-> 5399\u001b[0m     \u001b[38;5;28;01mreturn\u001b[39;00m \u001b[38;5;28;43msuper\u001b[39;49m\u001b[43m(\u001b[49m\u001b[43m)\u001b[49m\u001b[38;5;241;43m.\u001b[39;49m\u001b[43mdrop\u001b[49m\u001b[43m(\u001b[49m\n\u001b[0;32m   5400\u001b[0m \u001b[43m        \u001b[49m\u001b[43mlabels\u001b[49m\u001b[38;5;241;43m=\u001b[39;49m\u001b[43mlabels\u001b[49m\u001b[43m,\u001b[49m\n\u001b[0;32m   5401\u001b[0m \u001b[43m        \u001b[49m\u001b[43maxis\u001b[49m\u001b[38;5;241;43m=\u001b[39;49m\u001b[43maxis\u001b[49m\u001b[43m,\u001b[49m\n\u001b[0;32m   5402\u001b[0m \u001b[43m        \u001b[49m\u001b[43mindex\u001b[49m\u001b[38;5;241;43m=\u001b[39;49m\u001b[43mindex\u001b[49m\u001b[43m,\u001b[49m\n\u001b[0;32m   5403\u001b[0m \u001b[43m        \u001b[49m\u001b[43mcolumns\u001b[49m\u001b[38;5;241;43m=\u001b[39;49m\u001b[43mcolumns\u001b[49m\u001b[43m,\u001b[49m\n\u001b[0;32m   5404\u001b[0m \u001b[43m        \u001b[49m\u001b[43mlevel\u001b[49m\u001b[38;5;241;43m=\u001b[39;49m\u001b[43mlevel\u001b[49m\u001b[43m,\u001b[49m\n\u001b[0;32m   5405\u001b[0m \u001b[43m        \u001b[49m\u001b[43minplace\u001b[49m\u001b[38;5;241;43m=\u001b[39;49m\u001b[43minplace\u001b[49m\u001b[43m,\u001b[49m\n\u001b[0;32m   5406\u001b[0m \u001b[43m        \u001b[49m\u001b[43merrors\u001b[49m\u001b[38;5;241;43m=\u001b[39;49m\u001b[43merrors\u001b[49m\u001b[43m,\u001b[49m\n\u001b[0;32m   5407\u001b[0m \u001b[43m    \u001b[49m\u001b[43m)\u001b[49m\n",
      "File \u001b[1;32m~\\anaconda3\\lib\\site-packages\\pandas\\util\\_decorators.py:331\u001b[0m, in \u001b[0;36mdeprecate_nonkeyword_arguments.<locals>.decorate.<locals>.wrapper\u001b[1;34m(*args, **kwargs)\u001b[0m\n\u001b[0;32m    325\u001b[0m \u001b[38;5;28;01mif\u001b[39;00m \u001b[38;5;28mlen\u001b[39m(args) \u001b[38;5;241m>\u001b[39m num_allow_args:\n\u001b[0;32m    326\u001b[0m     warnings\u001b[38;5;241m.\u001b[39mwarn(\n\u001b[0;32m    327\u001b[0m         msg\u001b[38;5;241m.\u001b[39mformat(arguments\u001b[38;5;241m=\u001b[39m_format_argument_list(allow_args)),\n\u001b[0;32m    328\u001b[0m         \u001b[38;5;167;01mFutureWarning\u001b[39;00m,\n\u001b[0;32m    329\u001b[0m         stacklevel\u001b[38;5;241m=\u001b[39mfind_stack_level(),\n\u001b[0;32m    330\u001b[0m     )\n\u001b[1;32m--> 331\u001b[0m \u001b[38;5;28;01mreturn\u001b[39;00m func(\u001b[38;5;241m*\u001b[39margs, \u001b[38;5;241m*\u001b[39m\u001b[38;5;241m*\u001b[39mkwargs)\n",
      "File \u001b[1;32m~\\anaconda3\\lib\\site-packages\\pandas\\core\\generic.py:4505\u001b[0m, in \u001b[0;36mNDFrame.drop\u001b[1;34m(self, labels, axis, index, columns, level, inplace, errors)\u001b[0m\n\u001b[0;32m   4503\u001b[0m \u001b[38;5;28;01mfor\u001b[39;00m axis, labels \u001b[38;5;129;01min\u001b[39;00m axes\u001b[38;5;241m.\u001b[39mitems():\n\u001b[0;32m   4504\u001b[0m     \u001b[38;5;28;01mif\u001b[39;00m labels \u001b[38;5;129;01mis\u001b[39;00m \u001b[38;5;129;01mnot\u001b[39;00m \u001b[38;5;28;01mNone\u001b[39;00m:\n\u001b[1;32m-> 4505\u001b[0m         obj \u001b[38;5;241m=\u001b[39m \u001b[43mobj\u001b[49m\u001b[38;5;241;43m.\u001b[39;49m\u001b[43m_drop_axis\u001b[49m\u001b[43m(\u001b[49m\u001b[43mlabels\u001b[49m\u001b[43m,\u001b[49m\u001b[43m \u001b[49m\u001b[43maxis\u001b[49m\u001b[43m,\u001b[49m\u001b[43m \u001b[49m\u001b[43mlevel\u001b[49m\u001b[38;5;241;43m=\u001b[39;49m\u001b[43mlevel\u001b[49m\u001b[43m,\u001b[49m\u001b[43m \u001b[49m\u001b[43merrors\u001b[49m\u001b[38;5;241;43m=\u001b[39;49m\u001b[43merrors\u001b[49m\u001b[43m)\u001b[49m\n\u001b[0;32m   4507\u001b[0m \u001b[38;5;28;01mif\u001b[39;00m inplace:\n\u001b[0;32m   4508\u001b[0m     \u001b[38;5;28mself\u001b[39m\u001b[38;5;241m.\u001b[39m_update_inplace(obj)\n",
      "File \u001b[1;32m~\\anaconda3\\lib\\site-packages\\pandas\\core\\generic.py:4546\u001b[0m, in \u001b[0;36mNDFrame._drop_axis\u001b[1;34m(self, labels, axis, level, errors, only_slice)\u001b[0m\n\u001b[0;32m   4544\u001b[0m         new_axis \u001b[38;5;241m=\u001b[39m axis\u001b[38;5;241m.\u001b[39mdrop(labels, level\u001b[38;5;241m=\u001b[39mlevel, errors\u001b[38;5;241m=\u001b[39merrors)\n\u001b[0;32m   4545\u001b[0m     \u001b[38;5;28;01melse\u001b[39;00m:\n\u001b[1;32m-> 4546\u001b[0m         new_axis \u001b[38;5;241m=\u001b[39m \u001b[43maxis\u001b[49m\u001b[38;5;241;43m.\u001b[39;49m\u001b[43mdrop\u001b[49m\u001b[43m(\u001b[49m\u001b[43mlabels\u001b[49m\u001b[43m,\u001b[49m\u001b[43m \u001b[49m\u001b[43merrors\u001b[49m\u001b[38;5;241;43m=\u001b[39;49m\u001b[43merrors\u001b[49m\u001b[43m)\u001b[49m\n\u001b[0;32m   4547\u001b[0m     indexer \u001b[38;5;241m=\u001b[39m axis\u001b[38;5;241m.\u001b[39mget_indexer(new_axis)\n\u001b[0;32m   4549\u001b[0m \u001b[38;5;66;03m# Case for non-unique axis\u001b[39;00m\n\u001b[0;32m   4550\u001b[0m \u001b[38;5;28;01melse\u001b[39;00m:\n",
      "File \u001b[1;32m~\\anaconda3\\lib\\site-packages\\pandas\\core\\indexes\\base.py:6934\u001b[0m, in \u001b[0;36mIndex.drop\u001b[1;34m(self, labels, errors)\u001b[0m\n\u001b[0;32m   6932\u001b[0m \u001b[38;5;28;01mif\u001b[39;00m mask\u001b[38;5;241m.\u001b[39many():\n\u001b[0;32m   6933\u001b[0m     \u001b[38;5;28;01mif\u001b[39;00m errors \u001b[38;5;241m!=\u001b[39m \u001b[38;5;124m\"\u001b[39m\u001b[38;5;124mignore\u001b[39m\u001b[38;5;124m\"\u001b[39m:\n\u001b[1;32m-> 6934\u001b[0m         \u001b[38;5;28;01mraise\u001b[39;00m \u001b[38;5;167;01mKeyError\u001b[39;00m(\u001b[38;5;124mf\u001b[39m\u001b[38;5;124m\"\u001b[39m\u001b[38;5;132;01m{\u001b[39;00m\u001b[38;5;28mlist\u001b[39m(labels[mask])\u001b[38;5;132;01m}\u001b[39;00m\u001b[38;5;124m not found in axis\u001b[39m\u001b[38;5;124m\"\u001b[39m)\n\u001b[0;32m   6935\u001b[0m     indexer \u001b[38;5;241m=\u001b[39m indexer[\u001b[38;5;241m~\u001b[39mmask]\n\u001b[0;32m   6936\u001b[0m \u001b[38;5;28;01mreturn\u001b[39;00m \u001b[38;5;28mself\u001b[39m\u001b[38;5;241m.\u001b[39mdelete(indexer)\n",
      "\u001b[1;31mKeyError\u001b[0m: \"['job_id', 'thumbnail', 'commute_time'] not found in axis\""
     ]
    }
   ],
   "source": [
    "df = df.drop(['job_id', 'thumbnail', 'commute_time'], axis=1)"
   ]
  },
  {
   "cell_type": "code",
   "execution_count": null,
   "id": "7ec5ac35",
   "metadata": {},
   "outputs": [],
   "source": [
    "df"
   ]
  },
  {
   "cell_type": "code",
   "execution_count": null,
   "id": "e0e11069",
   "metadata": {},
   "outputs": [],
   "source": [
    "df.to_csv('gsearch_jobs.csv', index=False)"
   ]
  },
  {
   "cell_type": "code",
   "execution_count": null,
   "id": "83f4f123",
   "metadata": {},
   "outputs": [],
   "source": [
    "df.shape"
   ]
  },
  {
   "cell_type": "code",
   "execution_count": null,
   "id": "34e7b520",
   "metadata": {},
   "outputs": [],
   "source": [
    "df.head()"
   ]
  },
  {
   "cell_type": "code",
   "execution_count": null,
   "id": "9383619a",
   "metadata": {},
   "outputs": [],
   "source": [
    "df.dtypes"
   ]
  },
  {
   "cell_type": "code",
   "execution_count": null,
   "id": "f93b8922",
   "metadata": {},
   "outputs": [],
   "source": [
    "df.isnull().sum()"
   ]
  },
  {
   "cell_type": "code",
   "execution_count": null,
   "id": "6c46f4c2",
   "metadata": {},
   "outputs": [],
   "source": [
    "df['index'].nunique()"
   ]
  },
  {
   "cell_type": "code",
   "execution_count": null,
   "id": "d79a7cf3",
   "metadata": {},
   "outputs": [],
   "source": [
    "df['title'].nunique()"
   ]
  },
  {
   "cell_type": "code",
   "execution_count": null,
   "id": "1180b871",
   "metadata": {},
   "outputs": [],
   "source": [
    "df['company_name'].nunique()"
   ]
  },
  {
   "cell_type": "code",
   "execution_count": null,
   "id": "f32fa275",
   "metadata": {},
   "outputs": [],
   "source": [
    "df.describe()"
   ]
  },
  {
   "cell_type": "code",
   "execution_count": null,
   "id": "d7c39e8e",
   "metadata": {},
   "outputs": [],
   "source": [
    "df['description'][0]"
   ]
  },
  {
   "cell_type": "code",
   "execution_count": null,
   "id": "be80bc12",
   "metadata": {},
   "outputs": [],
   "source": [
    "df['description_tokens'][0]"
   ]
  },
  {
   "cell_type": "markdown",
   "id": "ebf9cf6e",
   "metadata": {},
   "source": [
    "## Data Type Conversion"
   ]
  },
  {
   "cell_type": "markdown",
   "id": "5a8512e8",
   "metadata": {},
   "source": [
    "## Text Data Cleaning"
   ]
  },
  {
   "cell_type": "markdown",
   "id": "1754e99e",
   "metadata": {},
   "source": [
    "## Extraction of Additional Features"
   ]
  },
  {
   "cell_type": "markdown",
   "id": "409d2817",
   "metadata": {},
   "source": [
    "# Exploratory Data Analysis"
   ]
  },
  {
   "cell_type": "markdown",
   "id": "fb4a78cc",
   "metadata": {},
   "source": [
    "## Distribution of Job Titles"
   ]
  },
  {
   "cell_type": "markdown",
   "id": "d05cdf4d",
   "metadata": {},
   "source": [
    "## Distribution of Companies"
   ]
  },
  {
   "cell_type": "markdown",
   "id": "a290db74",
   "metadata": {},
   "source": [
    "## Word Cloud of Job Descriptions"
   ]
  },
  {
   "cell_type": "markdown",
   "id": "d5b9c6d9",
   "metadata": {},
   "source": [
    "# Feature Engineering for NLP"
   ]
  },
  {
   "cell_type": "markdown",
   "id": "13f5ab8c",
   "metadata": {},
   "source": [
    "## Text Vectorization"
   ]
  },
  {
   "cell_type": "markdown",
   "id": "79fce9ac",
   "metadata": {},
   "source": [
    "## Dimensionality Reduction"
   ]
  },
  {
   "cell_type": "markdown",
   "id": "0006fdd4",
   "metadata": {},
   "source": [
    "# Modeling"
   ]
  },
  {
   "cell_type": "markdown",
   "id": "0a4171ae",
   "metadata": {},
   "source": [
    "## Clustering"
   ]
  },
  {
   "cell_type": "markdown",
   "id": "0d29800c",
   "metadata": {},
   "source": [
    "# Model Selection"
   ]
  },
  {
   "cell_type": "markdown",
   "id": "3aa2d612",
   "metadata": {},
   "source": [
    "## Hyperparameter Tuning"
   ]
  },
  {
   "cell_type": "markdown",
   "id": "9da374b4",
   "metadata": {},
   "source": [
    "## Model Training"
   ]
  },
  {
   "cell_type": "markdown",
   "id": "2571e4d6",
   "metadata": {},
   "source": [
    "## Cluster Evaluation"
   ]
  },
  {
   "cell_type": "markdown",
   "id": "3ab16cd0",
   "metadata": {},
   "source": [
    "# Insights from Clustering"
   ]
  },
  {
   "cell_type": "markdown",
   "id": "09d0081e",
   "metadata": {},
   "source": [
    "## Visualizing Clusters"
   ]
  },
  {
   "cell_type": "markdown",
   "id": "d5902ea3",
   "metadata": {},
   "source": [
    "## Analyzing Keywords for Each Cluster"
   ]
  },
  {
   "cell_type": "markdown",
   "id": "5b44405a",
   "metadata": {},
   "source": [
    "# Job Requirement Parsing"
   ]
  },
  {
   "cell_type": "markdown",
   "id": "ecbec2ef",
   "metadata": {},
   "source": [
    "## Extraction of Education Requirements"
   ]
  },
  {
   "cell_type": "markdown",
   "id": "d9d23313",
   "metadata": {},
   "source": [
    "## Extraction of Experience Requirements"
   ]
  },
  {
   "cell_type": "markdown",
   "id": "5a8e5575",
   "metadata": {},
   "source": [
    "## Analysis of Education and Experience Requirements by Job Title or Cluster"
   ]
  },
  {
   "cell_type": "markdown",
   "id": "4d3cff41",
   "metadata": {},
   "source": [
    "# Conclusion"
   ]
  },
  {
   "cell_type": "markdown",
   "id": "56d83b2d",
   "metadata": {},
   "source": [
    "## Summary of Findings"
   ]
  },
  {
   "cell_type": "markdown",
   "id": "8debd735",
   "metadata": {},
   "source": [
    "## Discussion of Project Limitations"
   ]
  },
  {
   "cell_type": "markdown",
   "id": "7dd9c7f5",
   "metadata": {},
   "source": [
    "## Suggestions for Future Work"
   ]
  },
  {
   "cell_type": "markdown",
   "id": "757d5361",
   "metadata": {},
   "source": [
    "# Appendix"
   ]
  }
 ],
 "metadata": {
  "kernelspec": {
   "display_name": "Python 3 (ipykernel)",
   "language": "python",
   "name": "python3"
  },
  "language_info": {
   "codemirror_mode": {
    "name": "ipython",
    "version": 3
   },
   "file_extension": ".py",
   "mimetype": "text/x-python",
   "name": "python",
   "nbconvert_exporter": "python",
   "pygments_lexer": "ipython3",
   "version": "3.10.9"
  },
  "toc": {
   "base_numbering": "0",
   "nav_menu": {},
   "number_sections": true,
   "sideBar": true,
   "skip_h1_title": false,
   "title_cell": "Table of Contents",
   "title_sidebar": "Contents",
   "toc_cell": true,
   "toc_position": {
    "height": "calc(100% - 180px)",
    "left": "10px",
    "top": "150px",
    "width": "466.25px"
   },
   "toc_section_display": true,
   "toc_window_display": false
  }
 },
 "nbformat": 4,
 "nbformat_minor": 5
}
